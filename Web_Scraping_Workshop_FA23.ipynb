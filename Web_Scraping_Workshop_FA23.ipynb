{
 "cells": [
  {
   "cell_type": "markdown",
   "metadata": {},
   "source": [
    "# Web Scraping with XPath and Python workshop\n",
    "We will be using XPath Helper in Google Chrome to select links from a webpage, and then use those links to download files from the webpage."
   ]
  },
  {
   "cell_type": "markdown",
   "metadata": {},
   "source": [
    "First, we will discuss XPath and XPath Helper. Follow this link: https://github.com/kaylaabner/WebScrapingWorkshop/blob/main/XPath_Tutorial.md.\n",
    "\n",
    "You need to add XPath Helper to your Chromium-based browser (Google Chrome, Brave): https://chrome.google.com/webstore/detail/xpath-helper/hgimnogjllphhhkhlmebbmlgjoejdpjl"
   ]
  },
  {
   "cell_type": "code",
   "execution_count": 27,
   "metadata": {},
   "outputs": [],
   "source": [
    "import requests\n",
    "import random\n",
    "import time\n",
    "from lxml import html"
   ]
  },
  {
   "cell_type": "code",
   "execution_count": 12,
   "metadata": {},
   "outputs": [],
   "source": [
    "r = requests.get('https://library.udel.edu/special/findaids/view?docId=ead/mss0109.xml') "
   ]
  },
  {
   "cell_type": "code",
   "execution_count": 14,
   "metadata": {},
   "outputs": [
    {
     "name": "stdout",
     "output_type": "stream",
     "text": [
      "<!DOCTYPE html>\n",
      "<html lang=\"en\">\n",
      "   <head>\n",
      "      <meta http-equiv=\"Content-Type\" content=\"text/html; charset=UTF-8\">\n",
      "      <meta charset=\"UTF-8\">\n",
      "      <meta name=\"viewport\" content=\"width=device-width\">\n",
      "      <title>George S. Messersmith papers | Manuscript and Archival Collection Finding Aids</title>\n",
      "      <link rel=\"stylesheet\" href=\"//maxcdn.bootstrapcdn.com/font-awesome/4.3.0/css/font-awesome.min.css\">\n",
      "      <link rel=\"stylesheet\" href=\"css/udlibrary/style.css\" type=\"text/css\">\n",
      "      <link rel=\"shortcut icon\" href=\"icons/udlibrary/favicon.ico\"><script type=\"text/javascript\" src=\"script/udlibrary/sitefunctions.js\"></script><script>\n",
      "           window.ga=window.ga||function(){(ga.q=ga.q||[]).push(arguments)};ga.l=+new Date;\n",
      "           ga('create', 'UA-3642042-3', 'auto');\n",
      "           ga('send', 'pageview');\n",
      "        </script><script async=\"async\" src=\"https://www.google-analytics.com/analytics.js\"></script><script src=\"https://code.jquery.com/jquery-1.10.2.js\"></script><script>\n",
      "           $(function(){\n",
      "              $(\"#UDLibraryHeader\").load(\"https://library.udel.edu/static/ud-library-header.php\");\n",
      "              $(\"#UDLibraryFooter\").load(\"https://library.udel.edu/static/ud-library-footer.php\");\n",
      "           });\n",
      "        </script><link rel=\"stylesheet\" href=\"css/default/content.css\" type=\"text/css\">\n",
      "   </head>\n",
      "   <body>\n",
      "      <div id=\"body\"><span id=\"UDLibraryHeader\"></span><div class=\"xtf-header\">\n",
      "            <div class=\"container\">\n",
      "               <h1><a href=\"search\">\n",
      "                     Manuscript and Archival Collection Finding Aids\n",
      "                     </a></h1>\n",
      "               <form method=\"get\" action=\"search\">\n",
      "                  <p><label><span class=\"screen-reader\">Search Term</span><input type=\"text\" name=\"freeformQuery\" id=\"mainsearch\" value=\"\"> </label><input type=\"submit\" value=\"Search\"></p>\n",
      "               </form>\n",
      "               <nav>\n",
      "                  <ul id=\"site-nav\">\n",
      "                     <li><a href=\"search\">Home</a></li>\n",
      "                     <li><a href=\"search?smode=advanced\">Advanced Search</a></li>\n",
      "                     <li><a href=\"search?smode=tips\">Search Tips</a></li>\n",
      "                     <li><a href=\"search?browse-all=yes&amp;sort=creator\">Browse</a></li>\n",
      "                     <li><a href=\"https://library.udel.edu/special/\">Special Collections &amp; Museums</a></li>\n",
      "                  </ul>\n",
      "               </nav>\n",
      "            </div>\n",
      "         </div>\n",
      "         <div class=\"container ead main\">\n",
      "            <h1>George S. Messersmith papers</h1>\n",
      "            <nav role=\"navigation\">\n",
      "               <ul id=\"doc-nav\">\n",
      "                  <li><a href=\"view?docId=ead/mss0109.xml\" class=\"selected\">Summary</a></li>\n",
      "                  <li><a href=\"view?docId=ead/mss0109.xml;tab=notes\" class=\"\">Notes</a></li>\n",
      "                  <li><a href=\"view?docId=ead/mss0109.xml;tab=content\" class=\"\">Contents</a></li>\n",
      "                  <li><a href=\"view?docId=ead/mss0109.xml;tab=subj\" class=\"\">Names &amp; Subjects</a></li>\n",
      "                  <li><a href=\"view?docId=ead/mss0109.xml;tab=use\" class=\"\">Using these materials</a></li>\n",
      "                  <li class=\"notab\"><a href=\"data/ead/mss0109.xml\" target=\"_blank\"><i class=\"fa fa-file-code-o\"></i> EAD</a></li>\n",
      "                  <li class=\"notab\"><a href=\"view?docId=ead/mss0109.xml;tab=print\" target=\"_blank\"><i class=\"fa fa-print\"></i> Print</a></li>\n",
      "               </ul>\n",
      "            </nav>\n",
      "            <div id=\"summary-block\">\n",
      "               <h2 class=\"screen-reader\">Summary</h2>\n",
      "               <table class=\"summary-table\">\n",
      "                  <tr>\n",
      "                     <td><b>Creator: </b></td>\n",
      "                     <td>\n",
      "                        Messersmith, George S. (George Strausser), 1883-1960\n",
      "                        \n",
      "                     </td>\n",
      "                  </tr>\n",
      "                  <tr>\n",
      "                     <td><b>Date(s): </b></td>\n",
      "                     <td>1907-1955</td>\n",
      "                  </tr>\n",
      "                  <tr>\n",
      "                     <td><b>Call Number: </b></td>\n",
      "                     <td>MSS 0109</td>\n",
      "                  </tr>\n",
      "                  <tr>\n",
      "                     <td><b>Language: </b></td>\n",
      "                     <td>A majority of materials in this collection are in \n",
      "                        <language langcode=\"eng\">English</language>, with additional material in \n",
      "                        <language langcode=\"spa\">Spanish</language> and \n",
      "                        <language langcode=\"ger\">German</language>.\n",
      "                     </td>\n",
      "                  </tr>\n",
      "                  <tr>\n",
      "                     <td><b>Abstract: </b></td>\n",
      "                     <td>Diplomatic and professional papers of George S. Messersmith (1883-1960). Consists of correspondence, memoranda, and official\n",
      "                        dispatches written during Messersmith's tenure with the U.S. Department of State, as well as during his subsequent business\n",
      "                        career. The extensive typescript of an unpublished memoir is also present. The papers include extensive discussions of political\n",
      "                        and economic matters regarding Europe during the 1930s and Latin America in the 1940s and 1950s.\n",
      "                     </td>\n",
      "                  </tr>\n",
      "                  <tr>\n",
      "                     <td><b>Physical Description:</b></td>\n",
      "                     <td>\n",
      "                        <ul style=\"margin-left: 0; margin-top: 0;\">\n",
      "                           <li>\n",
      "                              11.5 linear feet\n",
      "                              \n",
      "                           </li>\n",
      "                           <li>\n",
      "                              1 oversize box\n",
      "                              \n",
      "                           </li>\n",
      "                           <li>\n",
      "                              1 oversize removal\n",
      "                              \n",
      "                           </li>\n",
      "                        </ul>\n",
      "                     </td>\n",
      "                  </tr>\n",
      "                  <tr>\n",
      "                     <td><b>Immediate Source of Acquisition:</b></td>\n",
      "                     <td>Gift of the Estate of George S. Messersmith, 1960</td>\n",
      "                  </tr>\n",
      "                  <tr>\n",
      "                     <td><b>Processing Information:</b></td>\n",
      "                     <td>Processed and calendar created by Ruth Alford, May 1973.\n",
      "                        <p>XML encoding funded by the Unidel Foundation, 2003.</p>\n",
      "                        <p>EAD encoded by Jaime Margalotti, Thomas Pulhamus, and Lora J. Davis. Additional encoding by John Caldwell.</p>\n",
      "                        <p>Digitization funded by NHPRC grant, 2010.</p> Finding aid prepared using <em>Describing Archives: A Content Standard</em></td>\n",
      "                  </tr>\n",
      "                  <tr>\n",
      "                     <td><b>Alternative Format:</b></td>\n",
      "                     <td>Access to digital copies of the original documents in the Messersmith papers are available by following PDF links in the finding\n",
      "                        aid. These digitized files are housed in UDSpace, the <a href=\"http://dspace.udel.edu:8080/dspace/handle/19716/5973\">University of Delaware Institutional Repository</a>, where readers may \"browse this collection\" by various fields or use advanced searches to query full text of the PDF documents.\n",
      "                     </td>\n",
      "                  </tr>\n",
      "               </table>\n",
      "            </div>\n",
      "         </div><span id=\"UDLibraryFooter\"></span></div>\n",
      "   </body>\n",
      "</html>\n"
     ]
    }
   ],
   "source": [
    "print(r.text) #to retrieve the html of the page"
   ]
  },
  {
   "cell_type": "code",
   "execution_count": 13,
   "metadata": {},
   "outputs": [
    {
     "name": "stdout",
     "output_type": "stream",
     "text": [
      "b'<!DOCTYPE html>\\n<html lang=\"en\">\\n   <head>\\n      <meta http-equiv=\"Content-Type\" content=\"text/html; charset=UTF-8\">\\n      <meta charset=\"UTF-8\">\\n      <meta name=\"viewport\" content=\"width=device-width\">\\n      <title>George S. Messersmith papers | Manuscript and Archival Collection Finding Aids</title>\\n      <link rel=\"stylesheet\" href=\"//maxcdn.bootstrapcdn.com/font-awesome/4.3.0/css/font-awesome.min.css\">\\n      <link rel=\"stylesheet\" href=\"css/udlibrary/style.css\" type=\"text/css\">\\n      <link rel=\"shortcut icon\" href=\"icons/udlibrary/favicon.ico\"><script type=\"text/javascript\" src=\"script/udlibrary/sitefunctions.js\"></script><script>\\n           window.ga=window.ga||function(){(ga.q=ga.q||[]).push(arguments)};ga.l=+new Date;\\n           ga(\\'create\\', \\'UA-3642042-3\\', \\'auto\\');\\n           ga(\\'send\\', \\'pageview\\');\\n        </script><script async=\"async\" src=\"https://www.google-analytics.com/analytics.js\"></script><script src=\"https://code.jquery.com/jquery-1.10.2.js\"></script><script>\\n           $(function(){\\n              $(\"#UDLibraryHeader\").load(\"https://library.udel.edu/static/ud-library-header.php\");\\n              $(\"#UDLibraryFooter\").load(\"https://library.udel.edu/static/ud-library-footer.php\");\\n           });\\n        </script><link rel=\"stylesheet\" href=\"css/default/content.css\" type=\"text/css\">\\n   </head>\\n   <body>\\n      <div id=\"body\"><span id=\"UDLibraryHeader\"></span><div class=\"xtf-header\">\\n            <div class=\"container\">\\n               <h1><a href=\"search\">\\n                     Manuscript and Archival Collection Finding Aids\\n                     </a></h1>\\n               <form method=\"get\" action=\"search\">\\n                  <p><label><span class=\"screen-reader\">Search Term</span><input type=\"text\" name=\"freeformQuery\" id=\"mainsearch\" value=\"\"> </label><input type=\"submit\" value=\"Search\"></p>\\n               </form>\\n               <nav>\\n                  <ul id=\"site-nav\">\\n                     <li><a href=\"search\">Home</a></li>\\n                     <li><a href=\"search?smode=advanced\">Advanced Search</a></li>\\n                     <li><a href=\"search?smode=tips\">Search Tips</a></li>\\n                     <li><a href=\"search?browse-all=yes&amp;sort=creator\">Browse</a></li>\\n                     <li><a href=\"https://library.udel.edu/special/\">Special Collections &amp; Museums</a></li>\\n                  </ul>\\n               </nav>\\n            </div>\\n         </div>\\n         <div class=\"container ead main\">\\n            <h1>George S. Messersmith papers</h1>\\n            <nav role=\"navigation\">\\n               <ul id=\"doc-nav\">\\n                  <li><a href=\"view?docId=ead/mss0109.xml\" class=\"selected\">Summary</a></li>\\n                  <li><a href=\"view?docId=ead/mss0109.xml;tab=notes\" class=\"\">Notes</a></li>\\n                  <li><a href=\"view?docId=ead/mss0109.xml;tab=content\" class=\"\">Contents</a></li>\\n                  <li><a href=\"view?docId=ead/mss0109.xml;tab=subj\" class=\"\">Names &amp; Subjects</a></li>\\n                  <li><a href=\"view?docId=ead/mss0109.xml;tab=use\" class=\"\">Using these materials</a></li>\\n                  <li class=\"notab\"><a href=\"data/ead/mss0109.xml\" target=\"_blank\"><i class=\"fa fa-file-code-o\"></i> EAD</a></li>\\n                  <li class=\"notab\"><a href=\"view?docId=ead/mss0109.xml;tab=print\" target=\"_blank\"><i class=\"fa fa-print\"></i> Print</a></li>\\n               </ul>\\n            </nav>\\n            <div id=\"summary-block\">\\n               <h2 class=\"screen-reader\">Summary</h2>\\n               <table class=\"summary-table\">\\n                  <tr>\\n                     <td><b>Creator: </b></td>\\n                     <td>\\n                        Messersmith, George S. (George Strausser), 1883-1960\\n                        \\n                     </td>\\n                  </tr>\\n                  <tr>\\n                     <td><b>Date(s): </b></td>\\n                     <td>1907-1955</td>\\n                  </tr>\\n                  <tr>\\n                     <td><b>Call Number: </b></td>\\n                     <td>MSS 0109</td>\\n                  </tr>\\n                  <tr>\\n                     <td><b>Language: </b></td>\\n                     <td>A majority of materials in this collection are in \\n                        <language langcode=\"eng\">English</language>, with additional material in \\n                        <language langcode=\"spa\">Spanish</language> and \\n                        <language langcode=\"ger\">German</language>.\\n                     </td>\\n                  </tr>\\n                  <tr>\\n                     <td><b>Abstract: </b></td>\\n                     <td>Diplomatic and professional papers of George S. Messersmith (1883-1960). Consists of correspondence, memoranda, and official\\n                        dispatches written during Messersmith\\'s tenure with the U.S. Department of State, as well as during his subsequent business\\n                        career. The extensive typescript of an unpublished memoir is also present. The papers include extensive discussions of political\\n                        and economic matters regarding Europe during the 1930s and Latin America in the 1940s and 1950s.\\n                     </td>\\n                  </tr>\\n                  <tr>\\n                     <td><b>Physical Description:</b></td>\\n                     <td>\\n                        <ul style=\"margin-left: 0; margin-top: 0;\">\\n                           <li>\\n                              11.5 linear feet\\n                              \\n                           </li>\\n                           <li>\\n                              1 oversize box\\n                              \\n                           </li>\\n                           <li>\\n                              1 oversize removal\\n                              \\n                           </li>\\n                        </ul>\\n                     </td>\\n                  </tr>\\n                  <tr>\\n                     <td><b>Immediate Source of Acquisition:</b></td>\\n                     <td>Gift of the Estate of George S. Messersmith, 1960</td>\\n                  </tr>\\n                  <tr>\\n                     <td><b>Processing Information:</b></td>\\n                     <td>Processed and calendar created by Ruth Alford, May 1973.\\n                        <p>XML encoding funded by the Unidel Foundation, 2003.</p>\\n                        <p>EAD encoded by Jaime Margalotti, Thomas Pulhamus, and Lora J. Davis. Additional encoding by John Caldwell.</p>\\n                        <p>Digitization funded by NHPRC grant, 2010.</p> Finding aid prepared using <em>Describing Archives: A Content Standard</em></td>\\n                  </tr>\\n                  <tr>\\n                     <td><b>Alternative Format:</b></td>\\n                     <td>Access to digital copies of the original documents in the Messersmith papers are available by following PDF links in the finding\\n                        aid. These digitized files are housed in UDSpace, the <a href=\"http://dspace.udel.edu:8080/dspace/handle/19716/5973\">University of Delaware Institutional Repository</a>, where readers may \"browse this collection\" by various fields or use advanced searches to query full text of the PDF documents.\\n                     </td>\\n                  </tr>\\n               </table>\\n            </div>\\n         </div><span id=\"UDLibraryFooter\"></span></div>\\n   </body>\\n</html>'\n"
     ]
    }
   ],
   "source": [
    "print(r.content) #to retrieve the content in bytes, used for downloading files"
   ]
  },
  {
   "cell_type": "code",
   "execution_count": 15,
   "metadata": {},
   "outputs": [],
   "source": [
    "#to save a file, need a link to that file\n",
    "\n",
    "with open('30406.pdf', 'wb') as f:\n",
    "    f.write(r.content)"
   ]
  },
  {
   "cell_type": "code",
   "execution_count": null,
   "metadata": {},
   "outputs": [],
   "source": [
    "# list of urls\n",
    "\n",
    "urls = ['https://udspace.udel.edu/bitstream/handle/19716/5974/mss0109_0001-00.pdf', 'https://udspace.udel.edu/bitstream/handle/19716/5975/mss0109_0002-00.pdf', 'https://udspace.udel.edu/bitstream/handle/19716/5976/mss0109_0003-00.pdf', 'https://udspace.udel.edu/bitstream/handle/19716/5977/mss0109_0004-00.pdf', 'https://udspace.udel.edu/bitstream/handle/19716/5978/mss0109_0005-00.pdf', 'https://udspace.udel.edu/bitstream/handle/19716/5979/mss0109_0006-00.pdf']"
   ]
  },
  {
   "cell_type": "code",
   "execution_count": null,
   "metadata": {},
   "outputs": [],
   "source": [
    "#to create files named after the last 19 characters of the url\n",
    "\n",
    "for link in urls:\n",
    "    r = requests.get(link)\n",
    "    print(str(link[-19:]))\n",
    "    with open(str(link[-19:]), 'wb') as f:\n",
    "        f.write(r.content)"
   ]
  },
  {
   "cell_type": "code",
   "execution_count": null,
   "metadata": {},
   "outputs": [],
   "source": [
    "#to read in a text files of urls\n",
    "urls2 = open('C:\\\\Users\\\\kabner\\\\OneDrive - University of Delaware - o365\\\\Documents\\\\Collections as Data\\\\Messersmith\\\\messersmith_links.txt', 'r')"
   ]
  },
  {
   "cell_type": "code",
   "execution_count": null,
   "metadata": {},
   "outputs": [],
   "source": [
    "#to read in file as a list of urls\n",
    "urls3 = urls2.readlines()\n",
    "urls3"
   ]
  },
  {
   "cell_type": "code",
   "execution_count": null,
   "metadata": {},
   "outputs": [],
   "source": [
    "#remove newlines at end of links from text file\n",
    "\n",
    "clean = [link.strip() for link in urls3]\n",
    "print(clean) "
   ]
  },
  {
   "cell_type": "code",
   "execution_count": null,
   "metadata": {},
   "outputs": [],
   "source": [
    "for link in clean:\n",
    "    r = requests.get(link)\n",
    "    print(str(link[-19:]))\n",
    "    with open(str(link[-19:]), 'wb') as f:\n",
    "        f.write(r.content)\n",
    "        time.sleep(15)"
   ]
  },
  {
   "cell_type": "code",
   "execution_count": 25,
   "metadata": {},
   "outputs": [
    {
     "data": {
      "text/plain": [
       "['https://udspace.udel.edu/bitstream/handle/19716/5974/mss0109_0001-00.pdf',\n",
       " 'https://udspace.udel.edu/bitstream/handle/19716/5975/mss0109_0002-00.pdf',\n",
       " 'https://udspace.udel.edu/bitstream/handle/19716/5976/mss0109_0003-00.pdf',\n",
       " 'https://udspace.udel.edu/bitstream/handle/19716/5977/mss0109_0004-00.pdf',\n",
       " 'https://udspace.udel.edu/bitstream/handle/19716/5978/mss0109_0005-00.pdf',\n",
       " 'https://udspace.udel.edu/bitstream/handle/19716/5979/mss0109_0006-00.pdf',\n",
       " 'https://udspace.udel.edu/bitstream/handle/19716/5980/mss0109_0007-00.pdf',\n",
       " 'https://udspace.udel.edu/bitstream/handle/19716/5981/mss0109_0008-00.pdf',\n",
       " 'https://udspace.udel.edu/bitstream/handle/19716/5982/mss0109_0009-00.pdf',\n",
       " 'https://udspace.udel.edu/bitstream/handle/19716/5983/mss0109_0010-00.pdf']"
      ]
     },
     "execution_count": 25,
     "metadata": {},
     "output_type": "execute_result"
    }
   ],
   "source": [
    "#using lxml to use xpath in Python\n",
    " \n",
    "# Request the page\n",
    "page = requests.get('https://library.udel.edu/special/findaids/view?docId=ead/mss0109.xml;tab=content')\n",
    " \n",
    "# Parsing the page\n",
    "# (We need to use page.content rather than\n",
    "# page.text because html.fromstring implicitly\n",
    "# expects bytes as input.)\n",
    "tree = html.fromstring(page.content) \n",
    " \n",
    "# Get element using XPath\n",
    "links = tree.xpath(\"//a[@class='extlink']/@href\")\n",
    "type(links)\n",
    "\n",
    "working_links = links[:10] #to just select some of the links\n",
    "working_links"
   ]
  },
  {
   "cell_type": "code",
   "execution_count": 26,
   "metadata": {},
   "outputs": [
    {
     "name": "stdout",
     "output_type": "stream",
     "text": [
      "mss0109_0001-00.pdf\n",
      "mss0109_0002-00.pdf\n",
      "mss0109_0003-00.pdf\n",
      "mss0109_0004-00.pdf\n",
      "mss0109_0005-00.pdf\n",
      "mss0109_0006-00.pdf\n",
      "mss0109_0007-00.pdf\n",
      "mss0109_0008-00.pdf\n",
      "mss0109_0009-00.pdf\n",
      "mss0109_0010-00.pdf\n"
     ]
    }
   ],
   "source": [
    "#to use the list of links to retrieve PDFs\n",
    "\n",
    "for link in working_links:\n",
    "    r = requests.get(link)\n",
    "    print(str(link[-19:]))\n",
    "    with open(str(link[-19:]), 'wb') as f:\n",
    "        f.write(r.content)"
   ]
  },
  {
   "cell_type": "code",
   "execution_count": null,
   "metadata": {},
   "outputs": [],
   "source": []
  }
 ],
 "metadata": {
  "kernelspec": {
   "display_name": "Python 3 (ipykernel)",
   "language": "python",
   "name": "python3"
  },
  "language_info": {
   "codemirror_mode": {
    "name": "ipython",
    "version": 3
   },
   "file_extension": ".py",
   "mimetype": "text/x-python",
   "name": "python",
   "nbconvert_exporter": "python",
   "pygments_lexer": "ipython3",
   "version": "3.11.3"
  }
 },
 "nbformat": 4,
 "nbformat_minor": 2
}
